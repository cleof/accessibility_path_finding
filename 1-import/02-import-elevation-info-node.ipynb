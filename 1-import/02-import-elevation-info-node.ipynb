{
 "cells": [
  {
   "cell_type": "code",
   "execution_count": 1,
   "metadata": {},
   "outputs": [],
   "source": [
    "# Google API dashboard:\n",
    "# https://console.cloud.google.com/apis/dashboard?project=my-project-1543901530556&consoleReturnUrl=https:%2F%2Fcloud.google.com%2Fmaps-platform%2F%3Fapis%3Dmaps%26project%3Dmy-project-1543901530556&consoleUI=CLOUD&duration=PT1H\n",
    "# Google elevation request guide:\n",
    "# https://developers.google.com/maps/documentation/elevation/intro#ElevationRequests"
   ]
  },
  {
   "cell_type": "code",
   "execution_count": 2,
   "metadata": {},
   "outputs": [],
   "source": [
    "# Import all packages and helpter functions\n",
    "import sys\n",
    "sys.path.append('../')\n",
    "from utils import *"
   ]
  },
  {
   "cell_type": "code",
   "execution_count": 3,
   "metadata": {},
   "outputs": [
    {
     "name": "stdout",
     "output_type": "stream",
     "text": [
      "(888, 5)\n"
     ]
    },
    {
     "data": {
      "text/html": [
       "<div>\n",
       "<style scoped>\n",
       "    .dataframe tbody tr th:only-of-type {\n",
       "        vertical-align: middle;\n",
       "    }\n",
       "\n",
       "    .dataframe tbody tr th {\n",
       "        vertical-align: top;\n",
       "    }\n",
       "\n",
       "    .dataframe thead th {\n",
       "        text-align: right;\n",
       "    }\n",
       "</style>\n",
       "<table border=\"1\" class=\"dataframe\">\n",
       "  <thead>\n",
       "    <tr style=\"text-align: right;\">\n",
       "      <th></th>\n",
       "      <th>highway</th>\n",
       "      <th>osmid</th>\n",
       "      <th>x</th>\n",
       "      <th>y</th>\n",
       "      <th>geometry</th>\n",
       "    </tr>\n",
       "  </thead>\n",
       "  <tbody>\n",
       "    <tr>\n",
       "      <th>0</th>\n",
       "      <td>NaN</td>\n",
       "      <td>3835445345</td>\n",
       "      <td>-117.709300</td>\n",
       "      <td>34.102974</td>\n",
       "      <td>POINT (-117.7092997 34.1029743)</td>\n",
       "    </tr>\n",
       "    <tr>\n",
       "      <th>1</th>\n",
       "      <td>NaN</td>\n",
       "      <td>2247762320</td>\n",
       "      <td>-117.708159</td>\n",
       "      <td>34.105097</td>\n",
       "      <td>POINT (-117.7081591 34.1050973)</td>\n",
       "    </tr>\n",
       "    <tr>\n",
       "      <th>2</th>\n",
       "      <td>NaN</td>\n",
       "      <td>2247762331</td>\n",
       "      <td>-117.705297</td>\n",
       "      <td>34.105227</td>\n",
       "      <td>POINT (-117.7052972 34.1052271)</td>\n",
       "    </tr>\n",
       "    <tr>\n",
       "      <th>3</th>\n",
       "      <td>NaN</td>\n",
       "      <td>2247762347</td>\n",
       "      <td>-117.712548</td>\n",
       "      <td>34.105507</td>\n",
       "      <td>POINT (-117.7125478 34.1055069)</td>\n",
       "    </tr>\n",
       "    <tr>\n",
       "      <th>4</th>\n",
       "      <td>NaN</td>\n",
       "      <td>2247762350</td>\n",
       "      <td>-117.707165</td>\n",
       "      <td>34.105559</td>\n",
       "      <td>POINT (-117.7071645 34.1055588)</td>\n",
       "    </tr>\n",
       "  </tbody>\n",
       "</table>\n",
       "</div>"
      ],
      "text/plain": [
       "  highway       osmid           x          y                         geometry\n",
       "0     NaN  3835445345 -117.709300  34.102974  POINT (-117.7092997 34.1029743)\n",
       "1     NaN  2247762320 -117.708159  34.105097  POINT (-117.7081591 34.1050973)\n",
       "2     NaN  2247762331 -117.705297  34.105227  POINT (-117.7052972 34.1052271)\n",
       "3     NaN  2247762347 -117.712548  34.105507  POINT (-117.7125478 34.1055069)\n",
       "4     NaN  2247762350 -117.707165  34.105559  POINT (-117.7071645 34.1055588)"
      ]
     },
     "execution_count": 3,
     "metadata": {},
     "output_type": "execute_result"
    }
   ],
   "source": [
    "node = pd.read_csv(raw_path + '5c_nodes2.csv')\n",
    "print(node.shape)\n",
    "node.head()"
   ]
  },
  {
   "cell_type": "code",
   "execution_count": 4,
   "metadata": {
    "scrolled": true
   },
   "outputs": [
    {
     "data": {
      "text/plain": [
       "[381.6374206542969,\n",
       " 390.7146911621094,\n",
       " 396.798583984375,\n",
       " 387.0149536132812,\n",
       " 394.1032104492188]"
      ]
     },
     "execution_count": 4,
     "metadata": {},
     "output_type": "execute_result"
    }
   ],
   "source": [
    "elevations = [get_elevation(lat, lng) for lat,lng in zip(node['y'], node['x'])]\n",
    "elevations[:5]"
   ]
  },
  {
   "cell_type": "code",
   "execution_count": 5,
   "metadata": {},
   "outputs": [
    {
     "name": "stderr",
     "output_type": "stream",
     "text": [
      "/Users/zihaoxu/ENTER/lib/python3.6/site-packages/scipy/stats/stats.py:1706: FutureWarning: Using a non-tuple sequence for multidimensional indexing is deprecated; use `arr[tuple(seq)]` instead of `arr[seq]`. In the future this will be interpreted as an array index, `arr[np.array(seq)]`, which will result either in an error or a different result.\n",
      "  return np.add.reduce(sorted[indexer] * weights, axis=axis) / sumval\n",
      "/Users/zihaoxu/ENTER/lib/python3.6/site-packages/matplotlib/axes/_axes.py:6521: MatplotlibDeprecationWarning: \n",
      "The 'normed' kwarg was deprecated in Matplotlib 2.1 and will be removed in 3.1. Use 'density' instead.\n",
      "  alternative=\"'density'\", removal=\"3.1\")\n"
     ]
    },
    {
     "data": {
      "text/plain": [
       "<matplotlib.axes._subplots.AxesSubplot at 0x105d20ba8>"
      ]
     },
     "execution_count": 5,
     "metadata": {},
     "output_type": "execute_result"
    },
    {
     "data": {
      "image/png": "[encoded data removed]",
      "text/plain": [
       "<Figure size 432x288 with 1 Axes>"
      ]
     },
     "metadata": {},
     "output_type": "display_data"
    }
   ],
   "source": [
    "sns.distplot(elevations)"
   ]
  },
  {
   "cell_type": "code",
   "execution_count": 6,
   "metadata": {},
   "outputs": [
    {
     "data": {
      "text/html": [
       "<div>\n",
       "<style scoped>\n",
       "    .dataframe tbody tr th:only-of-type {\n",
       "        vertical-align: middle;\n",
       "    }\n",
       "\n",
       "    .dataframe tbody tr th {\n",
       "        vertical-align: top;\n",
       "    }\n",
       "\n",
       "    .dataframe thead th {\n",
       "        text-align: right;\n",
       "    }\n",
       "</style>\n",
       "<table border=\"1\" class=\"dataframe\">\n",
       "  <thead>\n",
       "    <tr style=\"text-align: right;\">\n",
       "      <th></th>\n",
       "      <th>highway</th>\n",
       "      <th>osmid</th>\n",
       "      <th>x</th>\n",
       "      <th>y</th>\n",
       "      <th>geometry</th>\n",
       "      <th>elevation</th>\n",
       "    </tr>\n",
       "  </thead>\n",
       "  <tbody>\n",
       "    <tr>\n",
       "      <th>0</th>\n",
       "      <td>NaN</td>\n",
       "      <td>3835445345</td>\n",
       "      <td>-117.709300</td>\n",
       "      <td>34.102974</td>\n",
       "      <td>POINT (-117.7092997 34.1029743)</td>\n",
       "      <td>381.637421</td>\n",
       "    </tr>\n",
       "    <tr>\n",
       "      <th>1</th>\n",
       "      <td>NaN</td>\n",
       "      <td>2247762320</td>\n",
       "      <td>-117.708159</td>\n",
       "      <td>34.105097</td>\n",
       "      <td>POINT (-117.7081591 34.1050973)</td>\n",
       "      <td>390.714691</td>\n",
       "    </tr>\n",
       "    <tr>\n",
       "      <th>2</th>\n",
       "      <td>NaN</td>\n",
       "      <td>2247762331</td>\n",
       "      <td>-117.705297</td>\n",
       "      <td>34.105227</td>\n",
       "      <td>POINT (-117.7052972 34.1052271)</td>\n",
       "      <td>396.798584</td>\n",
       "    </tr>\n",
       "    <tr>\n",
       "      <th>3</th>\n",
       "      <td>NaN</td>\n",
       "      <td>2247762347</td>\n",
       "      <td>-117.712548</td>\n",
       "      <td>34.105507</td>\n",
       "      <td>POINT (-117.7125478 34.1055069)</td>\n",
       "      <td>387.014954</td>\n",
       "    </tr>\n",
       "    <tr>\n",
       "      <th>4</th>\n",
       "      <td>NaN</td>\n",
       "      <td>2247762350</td>\n",
       "      <td>-117.707165</td>\n",
       "      <td>34.105559</td>\n",
       "      <td>POINT (-117.7071645 34.1055588)</td>\n",
       "      <td>394.103210</td>\n",
       "    </tr>\n",
       "  </tbody>\n",
       "</table>\n",
       "</div>"
      ],
      "text/plain": [
       "  highway       osmid           x          y                         geometry  \\\n",
       "0     NaN  3835445345 -117.709300  34.102974  POINT (-117.7092997 34.1029743)   \n",
       "1     NaN  2247762320 -117.708159  34.105097  POINT (-117.7081591 34.1050973)   \n",
       "2     NaN  2247762331 -117.705297  34.105227  POINT (-117.7052972 34.1052271)   \n",
       "3     NaN  2247762347 -117.712548  34.105507  POINT (-117.7125478 34.1055069)   \n",
       "4     NaN  2247762350 -117.707165  34.105559  POINT (-117.7071645 34.1055588)   \n",
       "\n",
       "    elevation  \n",
       "0  381.637421  \n",
       "1  390.714691  \n",
       "2  396.798584  \n",
       "3  387.014954  \n",
       "4  394.103210  "
      ]
     },
     "execution_count": 6,
     "metadata": {},
     "output_type": "execute_result"
    }
   ],
   "source": [
    "node['elevation'] = elevations\n",
    "node.head()"
   ]
  },
  {
   "cell_type": "code",
   "execution_count": 7,
   "metadata": {},
   "outputs": [],
   "source": [
    "node.to_csv(raw_path + '5c_nodes_elevation2.csv', index = None)"
   ]
  }
 ],
 "metadata": {
  "kernelspec": {
   "display_name": "Python 3",
   "language": "python",
   "name": "python3"
  },
  "language_info": {
   "codemirror_mode": {
    "name": "ipython",
    "version": 3
   },
   "file_extension": ".py",
   "mimetype": "text/x-python",
   "name": "python",
   "nbconvert_exporter": "python",
   "pygments_lexer": "ipython3",
   "version": "3.6.3"
  }
 },
 "nbformat": 4,
 "nbformat_minor": 2
}
