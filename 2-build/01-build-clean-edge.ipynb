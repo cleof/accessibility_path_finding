{
 "cells": [
  {
   "cell_type": "code",
   "execution_count": 1,
   "metadata": {},
   "outputs": [],
   "source": [
    "# Google API dashboard:\n",
    "# https://console.cloud.google.com/apis/dashboard?project=my-project-1543901530556&consoleReturnUrl=https:%2F%2Fcloud.google.com%2Fmaps-platform%2F%3Fapis%3Dmaps%26project%3Dmy-project-1543901530556&consoleUI=CLOUD&duration=PT1H\n",
    "# Google elevation request guide:\n",
    "# https://developers.google.com/maps/documentation/elevation/intro#ElevationRequests"
   ]
  },
  {
   "cell_type": "code",
   "execution_count": 2,
   "metadata": {},
   "outputs": [],
   "source": [
    "# Import all packages and helpter functions\n",
    "import sys\n",
    "sys.path.append('../')\n",
    "from utils import *"
   ]
  },
  {
   "cell_type": "code",
   "execution_count": 3,
   "metadata": {
    "scrolled": true
   },
   "outputs": [
    {
     "name": "stdout",
     "output_type": "stream",
     "text": [
      "(2464, 15)\n"
     ]
    },
    {
     "data": {
      "text/html": [
       "<div>\n",
       "<style scoped>\n",
       "    .dataframe tbody tr th:only-of-type {\n",
       "        vertical-align: middle;\n",
       "    }\n",
       "\n",
       "    .dataframe tbody tr th {\n",
       "        vertical-align: top;\n",
       "    }\n",
       "\n",
       "    .dataframe thead th {\n",
       "        text-align: right;\n",
       "    }\n",
       "</style>\n",
       "<table border=\"1\" class=\"dataframe\">\n",
       "  <thead>\n",
       "    <tr style=\"text-align: right;\">\n",
       "      <th></th>\n",
       "      <th>access</th>\n",
       "      <th>area</th>\n",
       "      <th>geometry</th>\n",
       "      <th>highway</th>\n",
       "      <th>key</th>\n",
       "      <th>landuse</th>\n",
       "      <th>lanes</th>\n",
       "      <th>length</th>\n",
       "      <th>name</th>\n",
       "      <th>oneway</th>\n",
       "      <th>osmid</th>\n",
       "      <th>ref</th>\n",
       "      <th>service</th>\n",
       "      <th>u</th>\n",
       "      <th>v</th>\n",
       "    </tr>\n",
       "  </thead>\n",
       "  <tbody>\n",
       "    <tr>\n",
       "      <th>0</th>\n",
       "      <td>private</td>\n",
       "      <td>NaN</td>\n",
       "      <td>LINESTRING (-117.7092997 34.1029743, -117.7093...</td>\n",
       "      <td>service</td>\n",
       "      <td>0</td>\n",
       "      <td>NaN</td>\n",
       "      <td>NaN</td>\n",
       "      <td>20.998</td>\n",
       "      <td>Amherst Avenue</td>\n",
       "      <td>False</td>\n",
       "      <td>13433612</td>\n",
       "      <td>NaN</td>\n",
       "      <td>NaN</td>\n",
       "      <td>3835445345</td>\n",
       "      <td>5366824647</td>\n",
       "    </tr>\n",
       "    <tr>\n",
       "      <th>1</th>\n",
       "      <td>private</td>\n",
       "      <td>NaN</td>\n",
       "      <td>LINESTRING (-117.7092997 34.1029743, -117.7093...</td>\n",
       "      <td>service</td>\n",
       "      <td>0</td>\n",
       "      <td>NaN</td>\n",
       "      <td>NaN</td>\n",
       "      <td>241.977</td>\n",
       "      <td>['East 9th Street', 'Amherst Avenue']</td>\n",
       "      <td>False</td>\n",
       "      <td>[13433612, 13441725]</td>\n",
       "      <td>NaN</td>\n",
       "      <td>NaN</td>\n",
       "      <td>3835445345</td>\n",
       "      <td>123586950</td>\n",
       "    </tr>\n",
       "    <tr>\n",
       "      <th>2</th>\n",
       "      <td>NaN</td>\n",
       "      <td>NaN</td>\n",
       "      <td>LINESTRING (-117.7092997 34.1029743, -117.7092...</td>\n",
       "      <td>path</td>\n",
       "      <td>0</td>\n",
       "      <td>NaN</td>\n",
       "      <td>NaN</td>\n",
       "      <td>109.109</td>\n",
       "      <td>Quotation Walk</td>\n",
       "      <td>False</td>\n",
       "      <td>380203392</td>\n",
       "      <td>NaN</td>\n",
       "      <td>NaN</td>\n",
       "      <td>3835445345</td>\n",
       "      <td>3835445353</td>\n",
       "    </tr>\n",
       "  </tbody>\n",
       "</table>\n",
       "</div>"
      ],
      "text/plain": [
       "    access area                                           geometry  highway  \\\n",
       "0  private  NaN  LINESTRING (-117.7092997 34.1029743, -117.7093...  service   \n",
       "1  private  NaN  LINESTRING (-117.7092997 34.1029743, -117.7093...  service   \n",
       "2      NaN  NaN  LINESTRING (-117.7092997 34.1029743, -117.7092...     path   \n",
       "\n",
       "   key landuse lanes   length                                   name  oneway  \\\n",
       "0    0     NaN   NaN   20.998                         Amherst Avenue   False   \n",
       "1    0     NaN   NaN  241.977  ['East 9th Street', 'Amherst Avenue']   False   \n",
       "2    0     NaN   NaN  109.109                         Quotation Walk   False   \n",
       "\n",
       "                  osmid  ref service           u           v  \n",
       "0              13433612  NaN     NaN  3835445345  5366824647  \n",
       "1  [13433612, 13441725]  NaN     NaN  3835445345   123586950  \n",
       "2             380203392  NaN     NaN  3835445345  3835445353  "
      ]
     },
     "execution_count": 3,
     "metadata": {},
     "output_type": "execute_result"
    }
   ],
   "source": [
    "edge = pd.read_csv(raw_path + '5c_edges2.csv')\n",
    "print(edge.shape)\n",
    "edge.head(3)"
   ]
  },
  {
   "cell_type": "markdown",
   "metadata": {},
   "source": [
    "We observe that edges are not simple line segments. It could have several nodes in there, and has different shapes, e.g. arcs or lines."
   ]
  },
  {
   "cell_type": "code",
   "execution_count": 4,
   "metadata": {
    "scrolled": false
   },
   "outputs": [
    {
     "data": {
      "image/png": "[encoded data removed]",
      "text/plain": [
       "<Figure size 432x288 with 1 Axes>"
      ]
     },
     "metadata": {},
     "output_type": "display_data"
    },
    {
     "data": {
      "image/png": "[encoded data removed]",
      "text/plain": [
       "<Figure size 432x288 with 1 Axes>"
      ]
     },
     "metadata": {},
     "output_type": "display_data"
    }
   ],
   "source": [
    "visualize_path(edge, 1)\n",
    "visualize_path(edge, 100)"
   ]
  },
  {
   "cell_type": "code",
   "execution_count": 5,
   "metadata": {},
   "outputs": [
    {
     "data": {
      "text/plain": [
       "([-117.7092997, -117.7093017],\n",
       " [-117.7093017, -117.7114799],\n",
       " [34.1029743, 34.1026019],\n",
       " [34.1026019, 34.1026228],\n",
       " ['service', 'service'],\n",
       " [False, False],\n",
       " [1, 1])"
      ]
     },
     "execution_count": 5,
     "metadata": {},
     "output_type": "execute_result"
    }
   ],
   "source": [
    "process_edge_csv_rows(edge, 1)"
   ]
  },
  {
   "cell_type": "code",
   "execution_count": 6,
   "metadata": {
    "scrolled": false
   },
   "outputs": [
    {
     "data": {
      "text/html": [
       "<div>\n",
       "<style scoped>\n",
       "    .dataframe tbody tr th:only-of-type {\n",
       "        vertical-align: middle;\n",
       "    }\n",
       "\n",
       "    .dataframe tbody tr th {\n",
       "        vertical-align: top;\n",
       "    }\n",
       "\n",
       "    .dataframe thead th {\n",
       "        text-align: right;\n",
       "    }\n",
       "</style>\n",
       "<table border=\"1\" class=\"dataframe\">\n",
       "  <thead>\n",
       "    <tr style=\"text-align: right;\">\n",
       "      <th></th>\n",
       "      <th>y_start</th>\n",
       "      <th>y_end</th>\n",
       "      <th>x_start</th>\n",
       "      <th>x_end</th>\n",
       "      <th>highway</th>\n",
       "      <th>oneway</th>\n",
       "      <th>edge_index</th>\n",
       "    </tr>\n",
       "  </thead>\n",
       "  <tbody>\n",
       "    <tr>\n",
       "      <th>0</th>\n",
       "      <td>-117.709300</td>\n",
       "      <td>-117.709304</td>\n",
       "      <td>34.102974</td>\n",
       "      <td>34.103163</td>\n",
       "      <td>service</td>\n",
       "      <td>False</td>\n",
       "      <td>0</td>\n",
       "    </tr>\n",
       "    <tr>\n",
       "      <th>1</th>\n",
       "      <td>-117.709300</td>\n",
       "      <td>-117.709302</td>\n",
       "      <td>34.102974</td>\n",
       "      <td>34.102602</td>\n",
       "      <td>service</td>\n",
       "      <td>False</td>\n",
       "      <td>1</td>\n",
       "    </tr>\n",
       "    <tr>\n",
       "      <th>2</th>\n",
       "      <td>-117.709302</td>\n",
       "      <td>-117.711480</td>\n",
       "      <td>34.102602</td>\n",
       "      <td>34.102623</td>\n",
       "      <td>service</td>\n",
       "      <td>False</td>\n",
       "      <td>1</td>\n",
       "    </tr>\n",
       "    <tr>\n",
       "      <th>3</th>\n",
       "      <td>-117.709300</td>\n",
       "      <td>-117.709206</td>\n",
       "      <td>34.102974</td>\n",
       "      <td>34.102967</td>\n",
       "      <td>path</td>\n",
       "      <td>False</td>\n",
       "      <td>2</td>\n",
       "    </tr>\n",
       "    <tr>\n",
       "      <th>4</th>\n",
       "      <td>-117.709206</td>\n",
       "      <td>-117.709089</td>\n",
       "      <td>34.102967</td>\n",
       "      <td>34.102963</td>\n",
       "      <td>path</td>\n",
       "      <td>False</td>\n",
       "      <td>2</td>\n",
       "    </tr>\n",
       "  </tbody>\n",
       "</table>\n",
       "</div>"
      ],
      "text/plain": [
       "      y_start       y_end    x_start      x_end  highway  oneway  edge_index\n",
       "0 -117.709300 -117.709304  34.102974  34.103163  service   False           0\n",
       "1 -117.709300 -117.709302  34.102974  34.102602  service   False           1\n",
       "2 -117.709302 -117.711480  34.102602  34.102623  service   False           1\n",
       "3 -117.709300 -117.709206  34.102974  34.102967     path   False           2\n",
       "4 -117.709206 -117.709089  34.102967  34.102963     path   False           2"
      ]
     },
     "execution_count": 6,
     "metadata": {},
     "output_type": "execute_result"
    }
   ],
   "source": [
    "clean_edge = defaultdict(list)\n",
    "for idx in edge.index:\n",
    "    y_start, y_end, x_start, x_end, highway, oneway, edge_index = process_edge_csv_rows(edge, idx)\n",
    "    clean_edge['y_start'] += y_start\n",
    "    clean_edge['y_end'] += y_end\n",
    "    clean_edge['x_start'] += x_start\n",
    "    clean_edge['x_end'] += x_end\n",
    "    clean_edge['highway'] += highway\n",
    "    clean_edge['oneway'] += oneway\n",
    "    clean_edge['edge_index'] += edge_index\n",
    "clean_edge = pd.DataFrame(clean_edge)\n",
    "clean_edge.head()"
   ]
  },
  {
   "cell_type": "code",
   "execution_count": 7,
   "metadata": {
    "scrolled": true
   },
   "outputs": [
    {
     "name": "stdout",
     "output_type": "stream",
     "text": [
      "count    6484.000000\n",
      "mean       19.961113\n",
      "std        35.857989\n",
      "min         0.166500\n",
      "25%         4.397441\n",
      "50%         8.642140\n",
      "75%        20.171479\n",
      "max       958.679002\n",
      "Name: length, dtype: float64\n"
     ]
    },
    {
     "name": "stderr",
     "output_type": "stream",
     "text": [
      "/Users/zihaoxu/ENTER/lib/python3.6/site-packages/scipy/stats/stats.py:1706: FutureWarning: Using a non-tuple sequence for multidimensional indexing is deprecated; use `arr[tuple(seq)]` instead of `arr[seq]`. In the future this will be interpreted as an array index, `arr[np.array(seq)]`, which will result either in an error or a different result.\n",
      "  return np.add.reduce(sorted[indexer] * weights, axis=axis) / sumval\n",
      "/Users/zihaoxu/ENTER/lib/python3.6/site-packages/matplotlib/axes/_axes.py:6521: MatplotlibDeprecationWarning: \n",
      "The 'normed' kwarg was deprecated in Matplotlib 2.1 and will be removed in 3.1. Use 'density' instead.\n",
      "  alternative=\"'density'\", removal=\"3.1\")\n"
     ]
    },
    {
     "data": {
      "text/plain": [
       "<matplotlib.axes._subplots.AxesSubplot at 0x11e95bda0>"
      ]
     },
     "execution_count": 7,
     "metadata": {},
     "output_type": "execute_result"
    },
    {
     "data": {
      "image/png": "[encoded data removed]",
      "text/plain": [
       "<Figure size 432x288 with 1 Axes>"
      ]
     },
     "metadata": {},
     "output_type": "display_data"
    }
   ],
   "source": [
    "path_lengths = [get_path_length(clean_edge, i) for i in range(len(clean_edge))]\n",
    "clean_edge['length'] = path_lengths\n",
    "print(clean_edge['length'].describe())\n",
    "sns.distplot(clean_edge['length'])"
   ]
  },
  {
   "cell_type": "code",
   "execution_count": 8,
   "metadata": {},
   "outputs": [
    {
     "name": "stdout",
     "output_type": "stream",
     "text": [
      "Total number of edges less than 5 m: 1999\n",
      "Total number of nodes in the new graph (overestimate): 29045.0\n"
     ]
    }
   ],
   "source": [
    "seg_length = 5\n",
    "print(\"Total number of edges less than\", str(seg_length), \"m:\", sum([l<seg_length for l in clean_edge['length']]))\n",
    "print(\"Total number of nodes in the new graph (overestimate):\", sum([l//seg_length+1 for l in clean_edge['length']]))"
   ]
  },
  {
   "cell_type": "code",
   "execution_count": 9,
   "metadata": {},
   "outputs": [
    {
     "data": {
      "text/html": [
       "<div>\n",
       "<style scoped>\n",
       "    .dataframe tbody tr th:only-of-type {\n",
       "        vertical-align: middle;\n",
       "    }\n",
       "\n",
       "    .dataframe tbody tr th {\n",
       "        vertical-align: top;\n",
       "    }\n",
       "\n",
       "    .dataframe thead th {\n",
       "        text-align: right;\n",
       "    }\n",
       "</style>\n",
       "<table border=\"1\" class=\"dataframe\">\n",
       "  <thead>\n",
       "    <tr style=\"text-align: right;\">\n",
       "      <th></th>\n",
       "      <th>y_start</th>\n",
       "      <th>y_end</th>\n",
       "      <th>x_start</th>\n",
       "      <th>x_end</th>\n",
       "      <th>highway</th>\n",
       "      <th>oneway</th>\n",
       "      <th>edge_index</th>\n",
       "      <th>length</th>\n",
       "    </tr>\n",
       "  </thead>\n",
       "  <tbody>\n",
       "    <tr>\n",
       "      <th>0</th>\n",
       "      <td>-117.708159</td>\n",
       "      <td>-117.708128</td>\n",
       "      <td>34.105097</td>\n",
       "      <td>34.105131</td>\n",
       "      <td>footway</td>\n",
       "      <td>False</td>\n",
       "      <td>4</td>\n",
       "      <td>5.085896</td>\n",
       "    </tr>\n",
       "    <tr>\n",
       "      <th>1</th>\n",
       "      <td>-117.708128</td>\n",
       "      <td>-117.708096</td>\n",
       "      <td>34.105131</td>\n",
       "      <td>34.105164</td>\n",
       "      <td>footway</td>\n",
       "      <td>False</td>\n",
       "      <td>4</td>\n",
       "      <td>5.085896</td>\n",
       "    </tr>\n",
       "    <tr>\n",
       "      <th>2</th>\n",
       "      <td>-117.708096</td>\n",
       "      <td>-117.708065</td>\n",
       "      <td>34.105164</td>\n",
       "      <td>34.105197</td>\n",
       "      <td>footway</td>\n",
       "      <td>False</td>\n",
       "      <td>4</td>\n",
       "      <td>5.085896</td>\n",
       "    </tr>\n",
       "    <tr>\n",
       "      <th>3</th>\n",
       "      <td>-117.708065</td>\n",
       "      <td>-117.708034</td>\n",
       "      <td>34.105197</td>\n",
       "      <td>34.105231</td>\n",
       "      <td>footway</td>\n",
       "      <td>False</td>\n",
       "      <td>4</td>\n",
       "      <td>5.085896</td>\n",
       "    </tr>\n",
       "    <tr>\n",
       "      <th>4</th>\n",
       "      <td>-117.708034</td>\n",
       "      <td>-117.708003</td>\n",
       "      <td>34.105231</td>\n",
       "      <td>34.105264</td>\n",
       "      <td>footway</td>\n",
       "      <td>False</td>\n",
       "      <td>4</td>\n",
       "      <td>5.085896</td>\n",
       "    </tr>\n",
       "    <tr>\n",
       "      <th>5</th>\n",
       "      <td>-117.708003</td>\n",
       "      <td>-117.707971</td>\n",
       "      <td>34.105264</td>\n",
       "      <td>34.105298</td>\n",
       "      <td>footway</td>\n",
       "      <td>False</td>\n",
       "      <td>4</td>\n",
       "      <td>5.085896</td>\n",
       "    </tr>\n",
       "    <tr>\n",
       "      <th>6</th>\n",
       "      <td>-117.707971</td>\n",
       "      <td>-117.707940</td>\n",
       "      <td>34.105298</td>\n",
       "      <td>34.105331</td>\n",
       "      <td>footway</td>\n",
       "      <td>False</td>\n",
       "      <td>4</td>\n",
       "      <td>5.085896</td>\n",
       "    </tr>\n",
       "  </tbody>\n",
       "</table>\n",
       "</div>"
      ],
      "text/plain": [
       "      y_start       y_end    x_start      x_end  highway  oneway  edge_index  \\\n",
       "0 -117.708159 -117.708128  34.105097  34.105131  footway   False           4   \n",
       "1 -117.708128 -117.708096  34.105131  34.105164  footway   False           4   \n",
       "2 -117.708096 -117.708065  34.105164  34.105197  footway   False           4   \n",
       "3 -117.708065 -117.708034  34.105197  34.105231  footway   False           4   \n",
       "4 -117.708034 -117.708003  34.105231  34.105264  footway   False           4   \n",
       "5 -117.708003 -117.707971  34.105264  34.105298  footway   False           4   \n",
       "6 -117.707971 -117.707940  34.105298  34.105331  footway   False           4   \n",
       "\n",
       "     length  \n",
       "0  5.085896  \n",
       "1  5.085896  \n",
       "2  5.085896  \n",
       "3  5.085896  \n",
       "4  5.085896  \n",
       "5  5.085896  \n",
       "6  5.085896  "
      ]
     },
     "execution_count": 9,
     "metadata": {},
     "output_type": "execute_result"
    }
   ],
   "source": [
    "break_up_edges_to_nodes(clean_edge, 14, seg_length)"
   ]
  },
  {
   "cell_type": "code",
   "execution_count": 10,
   "metadata": {},
   "outputs": [
    {
     "name": "stdout",
     "output_type": "stream",
     "text": [
      "(24560, 8)\n"
     ]
    },
    {
     "data": {
      "text/html": [
       "<div>\n",
       "<style scoped>\n",
       "    .dataframe tbody tr th:only-of-type {\n",
       "        vertical-align: middle;\n",
       "    }\n",
       "\n",
       "    .dataframe tbody tr th {\n",
       "        vertical-align: top;\n",
       "    }\n",
       "\n",
       "    .dataframe thead th {\n",
       "        text-align: right;\n",
       "    }\n",
       "</style>\n",
       "<table border=\"1\" class=\"dataframe\">\n",
       "  <thead>\n",
       "    <tr style=\"text-align: right;\">\n",
       "      <th></th>\n",
       "      <th>y_start</th>\n",
       "      <th>y_end</th>\n",
       "      <th>x_start</th>\n",
       "      <th>x_end</th>\n",
       "      <th>highway</th>\n",
       "      <th>oneway</th>\n",
       "      <th>edge_index</th>\n",
       "      <th>length</th>\n",
       "    </tr>\n",
       "  </thead>\n",
       "  <tbody>\n",
       "    <tr>\n",
       "      <th>0</th>\n",
       "      <td>-117.709300</td>\n",
       "      <td>-117.709301</td>\n",
       "      <td>34.102974</td>\n",
       "      <td>34.103021</td>\n",
       "      <td>service</td>\n",
       "      <td>False</td>\n",
       "      <td>0</td>\n",
       "      <td>5.254779</td>\n",
       "    </tr>\n",
       "    <tr>\n",
       "      <th>1</th>\n",
       "      <td>-117.709301</td>\n",
       "      <td>-117.709302</td>\n",
       "      <td>34.103021</td>\n",
       "      <td>34.103069</td>\n",
       "      <td>service</td>\n",
       "      <td>False</td>\n",
       "      <td>0</td>\n",
       "      <td>5.254779</td>\n",
       "    </tr>\n",
       "    <tr>\n",
       "      <th>2</th>\n",
       "      <td>-117.709302</td>\n",
       "      <td>-117.709303</td>\n",
       "      <td>34.103069</td>\n",
       "      <td>34.103116</td>\n",
       "      <td>service</td>\n",
       "      <td>False</td>\n",
       "      <td>0</td>\n",
       "      <td>5.254779</td>\n",
       "    </tr>\n",
       "    <tr>\n",
       "      <th>3</th>\n",
       "      <td>-117.709303</td>\n",
       "      <td>-117.709304</td>\n",
       "      <td>34.103116</td>\n",
       "      <td>34.103163</td>\n",
       "      <td>service</td>\n",
       "      <td>False</td>\n",
       "      <td>0</td>\n",
       "      <td>5.254779</td>\n",
       "    </tr>\n",
       "    <tr>\n",
       "      <th>0</th>\n",
       "      <td>-117.709300</td>\n",
       "      <td>-117.709300</td>\n",
       "      <td>34.102974</td>\n",
       "      <td>34.102928</td>\n",
       "      <td>service</td>\n",
       "      <td>False</td>\n",
       "      <td>1</td>\n",
       "      <td>5.181089</td>\n",
       "    </tr>\n",
       "  </tbody>\n",
       "</table>\n",
       "</div>"
      ],
      "text/plain": [
       "      y_start       y_end    x_start      x_end  highway  oneway  edge_index  \\\n",
       "0 -117.709300 -117.709301  34.102974  34.103021  service   False           0   \n",
       "1 -117.709301 -117.709302  34.103021  34.103069  service   False           0   \n",
       "2 -117.709302 -117.709303  34.103069  34.103116  service   False           0   \n",
       "3 -117.709303 -117.709304  34.103116  34.103163  service   False           0   \n",
       "0 -117.709300 -117.709300  34.102974  34.102928  service   False           1   \n",
       "\n",
       "     length  \n",
       "0  5.254779  \n",
       "1  5.254779  \n",
       "2  5.254779  \n",
       "3  5.254779  \n",
       "0  5.181089  "
      ]
     },
     "execution_count": 10,
     "metadata": {},
     "output_type": "execute_result"
    }
   ],
   "source": [
    "for idx in clean_edge.index:\n",
    "    if idx == 0:\n",
    "        output = break_up_edges_to_nodes(clean_edge, idx, seg_length)\n",
    "    else:\n",
    "        output = pd.concat([output, break_up_edges_to_nodes(clean_edge, idx, seg_length)])\n",
    "print(output.shape)\n",
    "output.head()"
   ]
  },
  {
   "cell_type": "markdown",
   "metadata": {},
   "source": [
    "Observe that after the transformation, the path length are all under 10, mostly concentrated around 5 meters."
   ]
  },
  {
   "cell_type": "code",
   "execution_count": 11,
   "metadata": {},
   "outputs": [
    {
     "name": "stderr",
     "output_type": "stream",
     "text": [
      "/Users/zihaoxu/ENTER/lib/python3.6/site-packages/scipy/stats/stats.py:1706: FutureWarning: Using a non-tuple sequence for multidimensional indexing is deprecated; use `arr[tuple(seq)]` instead of `arr[seq]`. In the future this will be interpreted as an array index, `arr[np.array(seq)]`, which will result either in an error or a different result.\n",
      "  return np.add.reduce(sorted[indexer] * weights, axis=axis) / sumval\n",
      "/Users/zihaoxu/ENTER/lib/python3.6/site-packages/matplotlib/axes/_axes.py:6521: MatplotlibDeprecationWarning: \n",
      "The 'normed' kwarg was deprecated in Matplotlib 2.1 and will be removed in 3.1. Use 'density' instead.\n",
      "  alternative=\"'density'\", removal=\"3.1\")\n"
     ]
    },
    {
     "data": {
      "text/plain": [
       "<matplotlib.axes._subplots.AxesSubplot at 0x11e9db908>"
      ]
     },
     "execution_count": 11,
     "metadata": {},
     "output_type": "execute_result"
    },
    {
     "data": {
      "image/png": "[encoded data removed]",
      "text/plain": [
       "<Figure size 432x288 with 1 Axes>"
      ]
     },
     "metadata": {},
     "output_type": "display_data"
    }
   ],
   "source": [
    "sns.distplot(output['length'])"
   ]
  },
  {
   "cell_type": "code",
   "execution_count": 12,
   "metadata": {},
   "outputs": [],
   "source": [
    "output.to_csv(mst_path + 'clean_edge2.csv', index = None)"
   ]
  }
 ],
 "metadata": {
  "kernelspec": {
   "display_name": "Python 3",
   "language": "python",
   "name": "python3"
  },
  "language_info": {
   "codemirror_mode": {
    "name": "ipython",
    "version": 3
   },
   "file_extension": ".py",
   "mimetype": "text/x-python",
   "name": "python",
   "nbconvert_exporter": "python",
   "pygments_lexer": "ipython3",
   "version": "3.6.3"
  }
 },
 "nbformat": 4,
 "nbformat_minor": 2
}
