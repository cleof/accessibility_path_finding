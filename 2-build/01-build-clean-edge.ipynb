{
 "cells": [
  {
   "cell_type": "code",
   "execution_count": 1,
   "metadata": {},
   "outputs": [],
   "source": [
    "# Google API dashboard:\n",
    "# https://console.cloud.google.com/apis/dashboard?project=my-project-1543901530556&consoleReturnUrl=https:%2F%2Fcloud.google.com%2Fmaps-platform%2F%3Fapis%3Dmaps%26project%3Dmy-project-1543901530556&consoleUI=CLOUD&duration=PT1H\n",
    "# Google elevation request guide:\n",
    "# https://developers.google.com/maps/documentation/elevation/intro#ElevationRequests"
   ]
  },
  {
   "cell_type": "code",
   "execution_count": 2,
   "metadata": {},
   "outputs": [],
   "source": [
    "# Import all packages and helpter functions\n",
    "import sys\n",
    "sys.path.append('../')\n",
    "from utils import *"
   ]
  },
  {
   "cell_type": "code",
   "execution_count": 3,
   "metadata": {
    "scrolled": true
   },
   "outputs": [
    {
     "name": "stdout",
     "output_type": "stream",
     "text": [
      "(1743, 14)\n"
     ]
    },
    {
     "data": {
      "text/html": [
       "<div>\n",
       "<style scoped>\n",
       "    .dataframe tbody tr th:only-of-type {\n",
       "        vertical-align: middle;\n",
       "    }\n",
       "\n",
       "    .dataframe tbody tr th {\n",
       "        vertical-align: top;\n",
       "    }\n",
       "\n",
       "    .dataframe thead th {\n",
       "        text-align: right;\n",
       "    }\n",
       "</style>\n",
       "<table border=\"1\" class=\"dataframe\">\n",
       "  <thead>\n",
       "    <tr style=\"text-align: right;\">\n",
       "      <th></th>\n",
       "      <th>access</th>\n",
       "      <th>geometry</th>\n",
       "      <th>highway</th>\n",
       "      <th>key</th>\n",
       "      <th>lanes</th>\n",
       "      <th>length</th>\n",
       "      <th>maxspeed</th>\n",
       "      <th>name</th>\n",
       "      <th>oneway</th>\n",
       "      <th>osmid</th>\n",
       "      <th>ref</th>\n",
       "      <th>service</th>\n",
       "      <th>u</th>\n",
       "      <th>v</th>\n",
       "    </tr>\n",
       "  </thead>\n",
       "  <tbody>\n",
       "    <tr>\n",
       "      <th>0</th>\n",
       "      <td>NaN</td>\n",
       "      <td>LINESTRING (-117.7037585 34.1049333, -117.7037...</td>\n",
       "      <td>footway</td>\n",
       "      <td>0</td>\n",
       "      <td>NaN</td>\n",
       "      <td>35.446</td>\n",
       "      <td>NaN</td>\n",
       "      <td>NaN</td>\n",
       "      <td>False</td>\n",
       "      <td>551541821</td>\n",
       "      <td>NaN</td>\n",
       "      <td>NaN</td>\n",
       "      <td>5326481411</td>\n",
       "      <td>5326481407</td>\n",
       "    </tr>\n",
       "    <tr>\n",
       "      <th>1</th>\n",
       "      <td>NaN</td>\n",
       "      <td>LINESTRING (-117.7037585 34.1049333, -117.7037...</td>\n",
       "      <td>footway</td>\n",
       "      <td>1</td>\n",
       "      <td>NaN</td>\n",
       "      <td>16.388</td>\n",
       "      <td>NaN</td>\n",
       "      <td>NaN</td>\n",
       "      <td>False</td>\n",
       "      <td>551541821</td>\n",
       "      <td>NaN</td>\n",
       "      <td>NaN</td>\n",
       "      <td>5326481411</td>\n",
       "      <td>5326481407</td>\n",
       "    </tr>\n",
       "    <tr>\n",
       "      <th>2</th>\n",
       "      <td>NaN</td>\n",
       "      <td>LINESTRING (-117.7037585 34.1049333, -117.7037...</td>\n",
       "      <td>footway</td>\n",
       "      <td>0</td>\n",
       "      <td>NaN</td>\n",
       "      <td>92.226</td>\n",
       "      <td>NaN</td>\n",
       "      <td>NaN</td>\n",
       "      <td>False</td>\n",
       "      <td>[556348964, 551541822]</td>\n",
       "      <td>NaN</td>\n",
       "      <td>NaN</td>\n",
       "      <td>5326481411</td>\n",
       "      <td>5366824714</td>\n",
       "    </tr>\n",
       "  </tbody>\n",
       "</table>\n",
       "</div>"
      ],
      "text/plain": [
       "  access                                           geometry  highway  key  \\\n",
       "0    NaN  LINESTRING (-117.7037585 34.1049333, -117.7037...  footway    0   \n",
       "1    NaN  LINESTRING (-117.7037585 34.1049333, -117.7037...  footway    1   \n",
       "2    NaN  LINESTRING (-117.7037585 34.1049333, -117.7037...  footway    0   \n",
       "\n",
       "  lanes  length maxspeed name  oneway                   osmid  ref service  \\\n",
       "0   NaN  35.446      NaN  NaN   False               551541821  NaN     NaN   \n",
       "1   NaN  16.388      NaN  NaN   False               551541821  NaN     NaN   \n",
       "2   NaN  92.226      NaN  NaN   False  [556348964, 551541822]  NaN     NaN   \n",
       "\n",
       "            u           v  \n",
       "0  5326481411  5326481407  \n",
       "1  5326481411  5326481407  \n",
       "2  5326481411  5366824714  "
      ]
     },
     "execution_count": 3,
     "metadata": {},
     "output_type": "execute_result"
    }
   ],
   "source": [
    "edge = pd.read_csv(raw_path + '5c_edges.csv')\n",
    "print(edge.shape)\n",
    "edge.head(3)"
   ]
  },
  {
   "cell_type": "markdown",
   "metadata": {},
   "source": [
    "We observe that edges are not simple line segments. It could have several nodes in there, and has different shapes, e.g. arcs or lines."
   ]
  },
  {
   "cell_type": "code",
   "execution_count": 4,
   "metadata": {
    "scrolled": false
   },
   "outputs": [
    {
     "data": {
      "image/png": "[encoded data removed]",
      "text/plain": [
       "<Figure size 432x288 with 1 Axes>"
      ]
     },
     "metadata": {},
     "output_type": "display_data"
    },
    {
     "data": {
      "image/png": "[encoded data removed]",
      "text/plain": [
       "<Figure size 432x288 with 1 Axes>"
      ]
     },
     "metadata": {},
     "output_type": "display_data"
    }
   ],
   "source": [
    "visualize_path(edge, 1)\n",
    "visualize_path(edge, 100)"
   ]
  },
  {
   "cell_type": "code",
   "execution_count": 5,
   "metadata": {},
   "outputs": [
    {
     "data": {
      "text/plain": [
       "([-117.7037585, -117.7037827, -117.703788, -117.7037639],\n",
       " [-117.7037827, -117.703788, -117.7037639, -117.703729],\n",
       " [34.1049333, 34.1049133, 34.1048678, 34.1048345],\n",
       " [34.1049133, 34.1048678, 34.1048345, 34.1048156],\n",
       " ['footway', 'footway', 'footway', 'footway'],\n",
       " [False, False, False, False],\n",
       " [1, 1, 1, 1])"
      ]
     },
     "execution_count": 5,
     "metadata": {},
     "output_type": "execute_result"
    }
   ],
   "source": [
    "process_edge_csv_rows(edge, 1)"
   ]
  },
  {
   "cell_type": "code",
   "execution_count": 6,
   "metadata": {
    "scrolled": false
   },
   "outputs": [
    {
     "data": {
      "text/html": [
       "<div>\n",
       "<style scoped>\n",
       "    .dataframe tbody tr th:only-of-type {\n",
       "        vertical-align: middle;\n",
       "    }\n",
       "\n",
       "    .dataframe tbody tr th {\n",
       "        vertical-align: top;\n",
       "    }\n",
       "\n",
       "    .dataframe thead th {\n",
       "        text-align: right;\n",
       "    }\n",
       "</style>\n",
       "<table border=\"1\" class=\"dataframe\">\n",
       "  <thead>\n",
       "    <tr style=\"text-align: right;\">\n",
       "      <th></th>\n",
       "      <th>y_start</th>\n",
       "      <th>y_end</th>\n",
       "      <th>x_start</th>\n",
       "      <th>x_end</th>\n",
       "      <th>highway</th>\n",
       "      <th>oneway</th>\n",
       "      <th>edge_index</th>\n",
       "    </tr>\n",
       "  </thead>\n",
       "  <tbody>\n",
       "    <tr>\n",
       "      <th>0</th>\n",
       "      <td>-117.703759</td>\n",
       "      <td>-117.703734</td>\n",
       "      <td>34.104933</td>\n",
       "      <td>34.104949</td>\n",
       "      <td>footway</td>\n",
       "      <td>False</td>\n",
       "      <td>0</td>\n",
       "    </tr>\n",
       "    <tr>\n",
       "      <th>1</th>\n",
       "      <td>-117.703734</td>\n",
       "      <td>-117.703689</td>\n",
       "      <td>34.104949</td>\n",
       "      <td>34.104957</td>\n",
       "      <td>footway</td>\n",
       "      <td>False</td>\n",
       "      <td>0</td>\n",
       "    </tr>\n",
       "    <tr>\n",
       "      <th>2</th>\n",
       "      <td>-117.703689</td>\n",
       "      <td>-117.703646</td>\n",
       "      <td>34.104957</td>\n",
       "      <td>34.104950</td>\n",
       "      <td>footway</td>\n",
       "      <td>False</td>\n",
       "      <td>0</td>\n",
       "    </tr>\n",
       "    <tr>\n",
       "      <th>3</th>\n",
       "      <td>-117.703646</td>\n",
       "      <td>-117.703616</td>\n",
       "      <td>34.104950</td>\n",
       "      <td>34.104913</td>\n",
       "      <td>footway</td>\n",
       "      <td>False</td>\n",
       "      <td>0</td>\n",
       "    </tr>\n",
       "    <tr>\n",
       "      <th>4</th>\n",
       "      <td>-117.703616</td>\n",
       "      <td>-117.703603</td>\n",
       "      <td>34.104913</td>\n",
       "      <td>34.104876</td>\n",
       "      <td>footway</td>\n",
       "      <td>False</td>\n",
       "      <td>0</td>\n",
       "    </tr>\n",
       "  </tbody>\n",
       "</table>\n",
       "</div>"
      ],
      "text/plain": [
       "      y_start       y_end    x_start      x_end  highway  oneway  edge_index\n",
       "0 -117.703759 -117.703734  34.104933  34.104949  footway   False           0\n",
       "1 -117.703734 -117.703689  34.104949  34.104957  footway   False           0\n",
       "2 -117.703689 -117.703646  34.104957  34.104950  footway   False           0\n",
       "3 -117.703646 -117.703616  34.104950  34.104913  footway   False           0\n",
       "4 -117.703616 -117.703603  34.104913  34.104876  footway   False           0"
      ]
     },
     "execution_count": 6,
     "metadata": {},
     "output_type": "execute_result"
    }
   ],
   "source": [
    "clean_edge = defaultdict(list)\n",
    "for idx in edge.index:\n",
    "    y_start, y_end, x_start, x_end, highway, oneway, edge_index = process_edge_csv_rows(edge, idx)\n",
    "    clean_edge['y_start'] += y_start\n",
    "    clean_edge['y_end'] += y_end\n",
    "    clean_edge['x_start'] += x_start\n",
    "    clean_edge['x_end'] += x_end\n",
    "    clean_edge['highway'] += highway\n",
    "    clean_edge['oneway'] += oneway\n",
    "    clean_edge['edge_index'] += edge_index\n",
    "clean_edge = pd.DataFrame(clean_edge)\n",
    "clean_edge.head()"
   ]
  },
  {
   "cell_type": "code",
   "execution_count": 7,
   "metadata": {
    "scrolled": true
   },
   "outputs": [
    {
     "name": "stdout",
     "output_type": "stream",
     "text": [
      "count    4033.000000\n",
      "mean       19.450305\n",
      "std        29.686560\n",
      "min         0.267727\n",
      "25%         4.457312\n",
      "50%         7.991341\n",
      "75%        20.647344\n",
      "max       254.867102\n",
      "Name: length, dtype: float64\n"
     ]
    },
    {
     "name": "stderr",
     "output_type": "stream",
     "text": [
      "/Users/zihaoxu/ENTER/lib/python3.6/site-packages/scipy/stats/stats.py:1706: FutureWarning: Using a non-tuple sequence for multidimensional indexing is deprecated; use `arr[tuple(seq)]` instead of `arr[seq]`. In the future this will be interpreted as an array index, `arr[np.array(seq)]`, which will result either in an error or a different result.\n",
      "  return np.add.reduce(sorted[indexer] * weights, axis=axis) / sumval\n",
      "/Users/zihaoxu/ENTER/lib/python3.6/site-packages/matplotlib/axes/_axes.py:6521: MatplotlibDeprecationWarning: \n",
      "The 'normed' kwarg was deprecated in Matplotlib 2.1 and will be removed in 3.1. Use 'density' instead.\n",
      "  alternative=\"'density'\", removal=\"3.1\")\n"
     ]
    },
    {
     "data": {
      "text/plain": [
       "<matplotlib.axes._subplots.AxesSubplot at 0x126243da0>"
      ]
     },
     "execution_count": 7,
     "metadata": {},
     "output_type": "execute_result"
    },
    {
     "data": {
      "image/png": "[encoded data removed]",
      "text/plain": [
       "<Figure size 432x288 with 1 Axes>"
      ]
     },
     "metadata": {},
     "output_type": "display_data"
    }
   ],
   "source": [
    "path_lengths = [get_path_length(clean_edge, i) for i in range(len(clean_edge))]\n",
    "clean_edge['length'] = path_lengths\n",
    "print(clean_edge['length'].describe())\n",
    "sns.distplot(clean_edge['length'])"
   ]
  },
  {
   "cell_type": "code",
   "execution_count": 8,
   "metadata": {},
   "outputs": [
    {
     "name": "stdout",
     "output_type": "stream",
     "text": [
      "Total number of edges less than 5 m: 1271\n",
      "Total number of nodes in the new graph (overestimate): 17579.0\n"
     ]
    }
   ],
   "source": [
    "seg_length = 5\n",
    "print(\"Total number of edges less than\", str(seg_length), \"m:\", sum([l<seg_length for l in clean_edge['length']]))\n",
    "print(\"Total number of nodes in the new graph (overestimate):\", sum([l//seg_length+1 for l in clean_edge['length']]))"
   ]
  },
  {
   "cell_type": "code",
   "execution_count": 9,
   "metadata": {},
   "outputs": [
    {
     "data": {
      "text/html": [
       "<div>\n",
       "<style scoped>\n",
       "    .dataframe tbody tr th:only-of-type {\n",
       "        vertical-align: middle;\n",
       "    }\n",
       "\n",
       "    .dataframe tbody tr th {\n",
       "        vertical-align: top;\n",
       "    }\n",
       "\n",
       "    .dataframe thead th {\n",
       "        text-align: right;\n",
       "    }\n",
       "</style>\n",
       "<table border=\"1\" class=\"dataframe\">\n",
       "  <thead>\n",
       "    <tr style=\"text-align: right;\">\n",
       "      <th></th>\n",
       "      <th>y_start</th>\n",
       "      <th>y_end</th>\n",
       "      <th>x_start</th>\n",
       "      <th>x_end</th>\n",
       "      <th>highway</th>\n",
       "      <th>oneway</th>\n",
       "      <th>edge_index</th>\n",
       "      <th>length</th>\n",
       "    </tr>\n",
       "  </thead>\n",
       "  <tbody>\n",
       "    <tr>\n",
       "      <th>0</th>\n",
       "      <td>-117.703761</td>\n",
       "      <td>-117.703705</td>\n",
       "      <td>34.105117</td>\n",
       "      <td>34.105149</td>\n",
       "      <td>footway</td>\n",
       "      <td>False</td>\n",
       "      <td>2</td>\n",
       "      <td>7.256644</td>\n",
       "    </tr>\n",
       "    <tr>\n",
       "      <th>1</th>\n",
       "      <td>-117.703705</td>\n",
       "      <td>-117.703648</td>\n",
       "      <td>34.105149</td>\n",
       "      <td>34.105182</td>\n",
       "      <td>footway</td>\n",
       "      <td>False</td>\n",
       "      <td>2</td>\n",
       "      <td>7.256644</td>\n",
       "    </tr>\n",
       "  </tbody>\n",
       "</table>\n",
       "</div>"
      ],
      "text/plain": [
       "      y_start       y_end    x_start      x_end  highway  oneway  edge_index  \\\n",
       "0 -117.703761 -117.703705  34.105117  34.105149  footway   False           2   \n",
       "1 -117.703705 -117.703648  34.105149  34.105182  footway   False           2   \n",
       "\n",
       "     length  \n",
       "0  7.256644  \n",
       "1  7.256644  "
      ]
     },
     "execution_count": 9,
     "metadata": {},
     "output_type": "execute_result"
    }
   ],
   "source": [
    "break_up_edges_to_nodes(clean_edge, 14, seg_length)"
   ]
  },
  {
   "cell_type": "code",
   "execution_count": 13,
   "metadata": {},
   "outputs": [
    {
     "name": "stdout",
     "output_type": "stream",
     "text": [
      "(14817, 8)\n"
     ]
    },
    {
     "data": {
      "text/html": [
       "<div>\n",
       "<style scoped>\n",
       "    .dataframe tbody tr th:only-of-type {\n",
       "        vertical-align: middle;\n",
       "    }\n",
       "\n",
       "    .dataframe tbody tr th {\n",
       "        vertical-align: top;\n",
       "    }\n",
       "\n",
       "    .dataframe thead th {\n",
       "        text-align: right;\n",
       "    }\n",
       "</style>\n",
       "<table border=\"1\" class=\"dataframe\">\n",
       "  <thead>\n",
       "    <tr style=\"text-align: right;\">\n",
       "      <th></th>\n",
       "      <th>y_start</th>\n",
       "      <th>y_end</th>\n",
       "      <th>x_start</th>\n",
       "      <th>x_end</th>\n",
       "      <th>highway</th>\n",
       "      <th>oneway</th>\n",
       "      <th>edge_index</th>\n",
       "      <th>length</th>\n",
       "    </tr>\n",
       "  </thead>\n",
       "  <tbody>\n",
       "    <tr>\n",
       "      <th>0</th>\n",
       "      <td>-117.703759</td>\n",
       "      <td>-117.703734</td>\n",
       "      <td>34.104933</td>\n",
       "      <td>34.104949</td>\n",
       "      <td>footway</td>\n",
       "      <td>False</td>\n",
       "      <td>0</td>\n",
       "      <td>3.189174</td>\n",
       "    </tr>\n",
       "    <tr>\n",
       "      <th>1</th>\n",
       "      <td>-117.703734</td>\n",
       "      <td>-117.703689</td>\n",
       "      <td>34.104949</td>\n",
       "      <td>34.104957</td>\n",
       "      <td>footway</td>\n",
       "      <td>False</td>\n",
       "      <td>0</td>\n",
       "      <td>5.133640</td>\n",
       "    </tr>\n",
       "    <tr>\n",
       "      <th>2</th>\n",
       "      <td>-117.703689</td>\n",
       "      <td>-117.703646</td>\n",
       "      <td>34.104957</td>\n",
       "      <td>34.104950</td>\n",
       "      <td>footway</td>\n",
       "      <td>False</td>\n",
       "      <td>0</td>\n",
       "      <td>4.818226</td>\n",
       "    </tr>\n",
       "    <tr>\n",
       "      <th>3</th>\n",
       "      <td>-117.703646</td>\n",
       "      <td>-117.703616</td>\n",
       "      <td>34.104950</td>\n",
       "      <td>34.104913</td>\n",
       "      <td>footway</td>\n",
       "      <td>False</td>\n",
       "      <td>0</td>\n",
       "      <td>5.235189</td>\n",
       "    </tr>\n",
       "    <tr>\n",
       "      <th>4</th>\n",
       "      <td>-117.703616</td>\n",
       "      <td>-117.703603</td>\n",
       "      <td>34.104913</td>\n",
       "      <td>34.104876</td>\n",
       "      <td>footway</td>\n",
       "      <td>False</td>\n",
       "      <td>0</td>\n",
       "      <td>4.451838</td>\n",
       "    </tr>\n",
       "  </tbody>\n",
       "</table>\n",
       "</div>"
      ],
      "text/plain": [
       "      y_start       y_end    x_start      x_end  highway  oneway  edge_index  \\\n",
       "0 -117.703759 -117.703734  34.104933  34.104949  footway   False           0   \n",
       "1 -117.703734 -117.703689  34.104949  34.104957  footway   False           0   \n",
       "2 -117.703689 -117.703646  34.104957  34.104950  footway   False           0   \n",
       "3 -117.703646 -117.703616  34.104950  34.104913  footway   False           0   \n",
       "4 -117.703616 -117.703603  34.104913  34.104876  footway   False           0   \n",
       "\n",
       "     length  \n",
       "0  3.189174  \n",
       "1  5.133640  \n",
       "2  4.818226  \n",
       "3  5.235189  \n",
       "4  4.451838  "
      ]
     },
     "execution_count": 13,
     "metadata": {},
     "output_type": "execute_result"
    }
   ],
   "source": [
    "for idx in clean_edge.index:\n",
    "    if idx == 0:\n",
    "        output = break_up_edges_to_nodes(clean_edge, idx, seg_length)\n",
    "    else:\n",
    "        output = pd.concat([output, break_up_edges_to_nodes(clean_edge, idx, seg_length)])\n",
    "print(output.shape)\n",
    "output.head()"
   ]
  },
  {
   "cell_type": "markdown",
   "metadata": {},
   "source": [
    "Observe that after the transformation, the path length are all under 10, mostly concentrated around 5 meters."
   ]
  },
  {
   "cell_type": "code",
   "execution_count": 14,
   "metadata": {},
   "outputs": [
    {
     "name": "stderr",
     "output_type": "stream",
     "text": [
      "/Users/zihaoxu/ENTER/lib/python3.6/site-packages/scipy/stats/stats.py:1706: FutureWarning: Using a non-tuple sequence for multidimensional indexing is deprecated; use `arr[tuple(seq)]` instead of `arr[seq]`. In the future this will be interpreted as an array index, `arr[np.array(seq)]`, which will result either in an error or a different result.\n",
      "  return np.add.reduce(sorted[indexer] * weights, axis=axis) / sumval\n",
      "/Users/zihaoxu/ENTER/lib/python3.6/site-packages/matplotlib/axes/_axes.py:6521: MatplotlibDeprecationWarning: \n",
      "The 'normed' kwarg was deprecated in Matplotlib 2.1 and will be removed in 3.1. Use 'density' instead.\n",
      "  alternative=\"'density'\", removal=\"3.1\")\n"
     ]
    },
    {
     "data": {
      "text/plain": [
       "<matplotlib.axes._subplots.AxesSubplot at 0x1262344e0>"
      ]
     },
     "execution_count": 14,
     "metadata": {},
     "output_type": "execute_result"
    },
    {
     "data": {
      "image/png": "[encoded data removed]",
      "text/plain": [
       "<Figure size 432x288 with 1 Axes>"
      ]
     },
     "metadata": {},
     "output_type": "display_data"
    }
   ],
   "source": [
    "sns.distplot(output['length'])"
   ]
  },
  {
   "cell_type": "code",
   "execution_count": 15,
   "metadata": {},
   "outputs": [],
   "source": [
    "output.to_csv(mst_path + 'clean_edge.csv', index = None)"
   ]
  }
 ],
 "metadata": {
  "kernelspec": {
   "display_name": "Python 3",
   "language": "python",
   "name": "python3"
  },
  "language_info": {
   "codemirror_mode": {
    "name": "ipython",
    "version": 3
   },
   "file_extension": ".py",
   "mimetype": "text/x-python",
   "name": "python",
   "nbconvert_exporter": "python",
   "pygments_lexer": "ipython3",
   "version": "3.6.3"
  }
 },
 "nbformat": 4,
 "nbformat_minor": 2
}
