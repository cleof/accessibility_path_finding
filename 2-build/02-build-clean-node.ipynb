{
 "cells": [
  {
   "cell_type": "code",
   "execution_count": 1,
   "metadata": {},
   "outputs": [],
   "source": [
    "import sys\n",
    "sys.path.append('../')\n",
    "from utils import *"
   ]
  },
  {
   "cell_type": "code",
   "execution_count": 2,
   "metadata": {},
   "outputs": [],
   "source": [
    "dtypes = {'y_start':str, 'y_end':str, 'x_start':str, 'x_end':str}"
   ]
  },
  {
   "cell_type": "code",
   "execution_count": 3,
   "metadata": {
    "scrolled": false
   },
   "outputs": [
    {
     "data": {
      "text/html": [
       "<div>\n",
       "<style scoped>\n",
       "    .dataframe tbody tr th:only-of-type {\n",
       "        vertical-align: middle;\n",
       "    }\n",
       "\n",
       "    .dataframe tbody tr th {\n",
       "        vertical-align: top;\n",
       "    }\n",
       "\n",
       "    .dataframe thead th {\n",
       "        text-align: right;\n",
       "    }\n",
       "</style>\n",
       "<table border=\"1\" class=\"dataframe\">\n",
       "  <thead>\n",
       "    <tr style=\"text-align: right;\">\n",
       "      <th></th>\n",
       "      <th>y_start</th>\n",
       "      <th>y_end</th>\n",
       "      <th>x_start</th>\n",
       "      <th>x_end</th>\n",
       "      <th>highway</th>\n",
       "      <th>oneway</th>\n",
       "      <th>edge_index</th>\n",
       "      <th>length</th>\n",
       "    </tr>\n",
       "  </thead>\n",
       "  <tbody>\n",
       "    <tr>\n",
       "      <th>0</th>\n",
       "      <td>-117.7037585</td>\n",
       "      <td>-117.7037344</td>\n",
       "      <td>34.1049333</td>\n",
       "      <td>34.1049489</td>\n",
       "      <td>footway</td>\n",
       "      <td>False</td>\n",
       "      <td>0</td>\n",
       "      <td>3.189174</td>\n",
       "    </tr>\n",
       "    <tr>\n",
       "      <th>1</th>\n",
       "      <td>-117.7037344</td>\n",
       "      <td>-117.7036888</td>\n",
       "      <td>34.1049489</td>\n",
       "      <td>34.1049566</td>\n",
       "      <td>footway</td>\n",
       "      <td>False</td>\n",
       "      <td>0</td>\n",
       "      <td>5.133640</td>\n",
       "    </tr>\n",
       "    <tr>\n",
       "      <th>2</th>\n",
       "      <td>-117.7036888</td>\n",
       "      <td>-117.7036459</td>\n",
       "      <td>34.1049566</td>\n",
       "      <td>34.10495</td>\n",
       "      <td>footway</td>\n",
       "      <td>False</td>\n",
       "      <td>0</td>\n",
       "      <td>4.818226</td>\n",
       "    </tr>\n",
       "    <tr>\n",
       "      <th>3</th>\n",
       "      <td>-117.7036459</td>\n",
       "      <td>-117.7036164</td>\n",
       "      <td>34.10495</td>\n",
       "      <td>34.1049133</td>\n",
       "      <td>footway</td>\n",
       "      <td>False</td>\n",
       "      <td>0</td>\n",
       "      <td>5.235189</td>\n",
       "    </tr>\n",
       "    <tr>\n",
       "      <th>4</th>\n",
       "      <td>-117.7036164</td>\n",
       "      <td>-117.703603</td>\n",
       "      <td>34.1049133</td>\n",
       "      <td>34.1048756</td>\n",
       "      <td>footway</td>\n",
       "      <td>False</td>\n",
       "      <td>0</td>\n",
       "      <td>4.451838</td>\n",
       "    </tr>\n",
       "  </tbody>\n",
       "</table>\n",
       "</div>"
      ],
      "text/plain": [
       "        y_start         y_end     x_start       x_end  highway  oneway  \\\n",
       "0  -117.7037585  -117.7037344  34.1049333  34.1049489  footway   False   \n",
       "1  -117.7037344  -117.7036888  34.1049489  34.1049566  footway   False   \n",
       "2  -117.7036888  -117.7036459  34.1049566    34.10495  footway   False   \n",
       "3  -117.7036459  -117.7036164    34.10495  34.1049133  footway   False   \n",
       "4  -117.7036164   -117.703603  34.1049133  34.1048756  footway   False   \n",
       "\n",
       "   edge_index    length  \n",
       "0           0  3.189174  \n",
       "1           0  5.133640  \n",
       "2           0  4.818226  \n",
       "3           0  5.235189  \n",
       "4           0  4.451838  "
      ]
     },
     "execution_count": 3,
     "metadata": {},
     "output_type": "execute_result"
    }
   ],
   "source": [
    "df = pd.read_csv(mst_path + 'clean_edge.csv', dtype = dtypes)\n",
    "df.head()"
   ]
  },
  {
   "cell_type": "code",
   "execution_count": 4,
   "metadata": {
    "scrolled": true
   },
   "outputs": [
    {
     "name": "stdout",
     "output_type": "stream",
     "text": [
      "(7543, 2)\n"
     ]
    },
    {
     "data": {
      "text/html": [
       "<div>\n",
       "<style scoped>\n",
       "    .dataframe tbody tr th:only-of-type {\n",
       "        vertical-align: middle;\n",
       "    }\n",
       "\n",
       "    .dataframe tbody tr th {\n",
       "        vertical-align: top;\n",
       "    }\n",
       "\n",
       "    .dataframe thead th {\n",
       "        text-align: right;\n",
       "    }\n",
       "</style>\n",
       "<table border=\"1\" class=\"dataframe\">\n",
       "  <thead>\n",
       "    <tr style=\"text-align: right;\">\n",
       "      <th></th>\n",
       "      <th>y</th>\n",
       "      <th>x</th>\n",
       "    </tr>\n",
       "  </thead>\n",
       "  <tbody>\n",
       "    <tr>\n",
       "      <th>0</th>\n",
       "      <td>-117.7030676</td>\n",
       "      <td>34.0987426</td>\n",
       "    </tr>\n",
       "    <tr>\n",
       "      <th>1</th>\n",
       "      <td>-117.7030888</td>\n",
       "      <td>34.0995394</td>\n",
       "    </tr>\n",
       "    <tr>\n",
       "      <th>2</th>\n",
       "      <td>-117.70311366666667</td>\n",
       "      <td>34.0987551</td>\n",
       "    </tr>\n",
       "    <tr>\n",
       "      <th>3</th>\n",
       "      <td>-117.7031166</td>\n",
       "      <td>34.1053609</td>\n",
       "    </tr>\n",
       "    <tr>\n",
       "      <th>4</th>\n",
       "      <td>-117.703135675</td>\n",
       "      <td>34.099540624999996</td>\n",
       "    </tr>\n",
       "  </tbody>\n",
       "</table>\n",
       "</div>"
      ],
      "text/plain": [
       "                     y                   x\n",
       "0         -117.7030676          34.0987426\n",
       "1         -117.7030888          34.0995394\n",
       "2  -117.70311366666667          34.0987551\n",
       "3         -117.7031166          34.1053609\n",
       "4       -117.703135675  34.099540624999996"
      ]
     },
     "execution_count": 4,
     "metadata": {},
     "output_type": "execute_result"
    }
   ],
   "source": [
    "unique_starts = df.groupby(['y_start', 'x_start']).size().reset_index().drop(0, 1).rename(columns={'y_start':'y', 'x_start':'x'})\n",
    "unique_ends = df.groupby(['y_end', 'x_end']).size().reset_index().drop(0, 1).rename(columns={'y_end':'y', 'x_end':'x'})\n",
    "unique = pd.concat([unique_starts, unique_ends]).drop_duplicates()\n",
    "print(unique.shape)\n",
    "unique.head()"
   ]
  },
  {
   "cell_type": "code",
   "execution_count": 5,
   "metadata": {
    "scrolled": false
   },
   "outputs": [
    {
     "data": {
      "text/html": [
       "<div>\n",
       "<style scoped>\n",
       "    .dataframe tbody tr th:only-of-type {\n",
       "        vertical-align: middle;\n",
       "    }\n",
       "\n",
       "    .dataframe tbody tr th {\n",
       "        vertical-align: top;\n",
       "    }\n",
       "\n",
       "    .dataframe thead th {\n",
       "        text-align: right;\n",
       "    }\n",
       "</style>\n",
       "<table border=\"1\" class=\"dataframe\">\n",
       "  <thead>\n",
       "    <tr style=\"text-align: right;\">\n",
       "      <th></th>\n",
       "      <th>y</th>\n",
       "      <th>x</th>\n",
       "      <th>elevation</th>\n",
       "    </tr>\n",
       "  </thead>\n",
       "  <tbody>\n",
       "    <tr>\n",
       "      <th>0</th>\n",
       "      <td>-117.7030676</td>\n",
       "      <td>34.0987426</td>\n",
       "      <td>373.615295</td>\n",
       "    </tr>\n",
       "    <tr>\n",
       "      <th>1</th>\n",
       "      <td>-117.7030888</td>\n",
       "      <td>34.0995394</td>\n",
       "      <td>376.185760</td>\n",
       "    </tr>\n",
       "    <tr>\n",
       "      <th>2</th>\n",
       "      <td>-117.70311366666667</td>\n",
       "      <td>34.0987551</td>\n",
       "      <td>373.649719</td>\n",
       "    </tr>\n",
       "    <tr>\n",
       "      <th>3</th>\n",
       "      <td>-117.7031166</td>\n",
       "      <td>34.1053609</td>\n",
       "      <td>397.213226</td>\n",
       "    </tr>\n",
       "    <tr>\n",
       "      <th>4</th>\n",
       "      <td>-117.703135675</td>\n",
       "      <td>34.099540624999996</td>\n",
       "      <td>376.146210</td>\n",
       "    </tr>\n",
       "  </tbody>\n",
       "</table>\n",
       "</div>"
      ],
      "text/plain": [
       "                     y                   x   elevation\n",
       "0         -117.7030676          34.0987426  373.615295\n",
       "1         -117.7030888          34.0995394  376.185760\n",
       "2  -117.70311366666667          34.0987551  373.649719\n",
       "3         -117.7031166          34.1053609  397.213226\n",
       "4       -117.703135675  34.099540624999996  376.146210"
      ]
     },
     "execution_count": 5,
     "metadata": {},
     "output_type": "execute_result"
    }
   ],
   "source": [
    "nodes = defaultdict(list)\n",
    "for y,x in zip(unique['y'], unique['x']):\n",
    "    nodes['y'].append(y)\n",
    "    nodes['x'].append(x)\n",
    "    nodes['elevation'].append(get_elevation(x, y))\n",
    "nodes = pd.DataFrame(nodes).sort_values(by=['y', 'x'])\n",
    "nodes.index = range(len(nodes))\n",
    "nodes.head()"
   ]
  },
  {
   "cell_type": "code",
   "execution_count": 6,
   "metadata": {},
   "outputs": [],
   "source": [
    "nodes.to_csv(mst_path + 'clean_node.csv', index = None)"
   ]
  },
  {
   "cell_type": "code",
   "execution_count": null,
   "metadata": {},
   "outputs": [],
   "source": []
  }
 ],
 "metadata": {
  "kernelspec": {
   "display_name": "Python 3",
   "language": "python",
   "name": "python3"
  },
  "language_info": {
   "codemirror_mode": {
    "name": "ipython",
    "version": 3
   },
   "file_extension": ".py",
   "mimetype": "text/x-python",
   "name": "python",
   "nbconvert_exporter": "python",
   "pygments_lexer": "ipython3",
   "version": "3.6.3"
  }
 },
 "nbformat": 4,
 "nbformat_minor": 2
}
