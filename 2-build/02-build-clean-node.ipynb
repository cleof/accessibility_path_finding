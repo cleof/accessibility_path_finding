{
 "cells": [
  {
   "cell_type": "code",
   "execution_count": 1,
   "metadata": {},
   "outputs": [],
   "source": [
    "import sys\n",
    "sys.path.append('../')\n",
    "from utils import *"
   ]
  },
  {
   "cell_type": "code",
   "execution_count": 2,
   "metadata": {},
   "outputs": [],
   "source": [
    "dtypes = {'y_start':str, 'y_end':str, 'x_start':str, 'x_end':str}"
   ]
  },
  {
   "cell_type": "code",
   "execution_count": 3,
   "metadata": {
    "scrolled": false
   },
   "outputs": [
    {
     "data": {
      "text/html": [
       "<div>\n",
       "<style scoped>\n",
       "    .dataframe tbody tr th:only-of-type {\n",
       "        vertical-align: middle;\n",
       "    }\n",
       "\n",
       "    .dataframe tbody tr th {\n",
       "        vertical-align: top;\n",
       "    }\n",
       "\n",
       "    .dataframe thead th {\n",
       "        text-align: right;\n",
       "    }\n",
       "</style>\n",
       "<table border=\"1\" class=\"dataframe\">\n",
       "  <thead>\n",
       "    <tr style=\"text-align: right;\">\n",
       "      <th></th>\n",
       "      <th>y_start</th>\n",
       "      <th>y_end</th>\n",
       "      <th>x_start</th>\n",
       "      <th>x_end</th>\n",
       "      <th>highway</th>\n",
       "      <th>oneway</th>\n",
       "      <th>edge_index</th>\n",
       "      <th>length</th>\n",
       "    </tr>\n",
       "  </thead>\n",
       "  <tbody>\n",
       "    <tr>\n",
       "      <th>0</th>\n",
       "      <td>-117.7092997</td>\n",
       "      <td>-117.7093008</td>\n",
       "      <td>34.1029743</td>\n",
       "      <td>34.1030215</td>\n",
       "      <td>service</td>\n",
       "      <td>False</td>\n",
       "      <td>0</td>\n",
       "      <td>5.254779</td>\n",
       "    </tr>\n",
       "    <tr>\n",
       "      <th>1</th>\n",
       "      <td>-117.7093008</td>\n",
       "      <td>-117.7093019</td>\n",
       "      <td>34.1030215</td>\n",
       "      <td>34.1030687</td>\n",
       "      <td>service</td>\n",
       "      <td>False</td>\n",
       "      <td>0</td>\n",
       "      <td>5.254779</td>\n",
       "    </tr>\n",
       "    <tr>\n",
       "      <th>2</th>\n",
       "      <td>-117.7093019</td>\n",
       "      <td>-117.709303</td>\n",
       "      <td>34.1030687</td>\n",
       "      <td>34.103115900000006</td>\n",
       "      <td>service</td>\n",
       "      <td>False</td>\n",
       "      <td>0</td>\n",
       "      <td>5.254779</td>\n",
       "    </tr>\n",
       "    <tr>\n",
       "      <th>3</th>\n",
       "      <td>-117.709303</td>\n",
       "      <td>-117.7093041</td>\n",
       "      <td>34.103115900000006</td>\n",
       "      <td>34.1031631</td>\n",
       "      <td>service</td>\n",
       "      <td>False</td>\n",
       "      <td>0</td>\n",
       "      <td>5.254779</td>\n",
       "    </tr>\n",
       "    <tr>\n",
       "      <th>4</th>\n",
       "      <td>-117.7092997</td>\n",
       "      <td>-117.70929995</td>\n",
       "      <td>34.1029743</td>\n",
       "      <td>34.10292775</td>\n",
       "      <td>service</td>\n",
       "      <td>False</td>\n",
       "      <td>1</td>\n",
       "      <td>5.181089</td>\n",
       "    </tr>\n",
       "  </tbody>\n",
       "</table>\n",
       "</div>"
      ],
      "text/plain": [
       "        y_start          y_end             x_start               x_end  \\\n",
       "0  -117.7092997   -117.7093008          34.1029743          34.1030215   \n",
       "1  -117.7093008   -117.7093019          34.1030215          34.1030687   \n",
       "2  -117.7093019    -117.709303          34.1030687  34.103115900000006   \n",
       "3   -117.709303   -117.7093041  34.103115900000006          34.1031631   \n",
       "4  -117.7092997  -117.70929995          34.1029743         34.10292775   \n",
       "\n",
       "   highway  oneway  edge_index    length  \n",
       "0  service   False           0  5.254779  \n",
       "1  service   False           0  5.254779  \n",
       "2  service   False           0  5.254779  \n",
       "3  service   False           0  5.254779  \n",
       "4  service   False           1  5.181089  "
      ]
     },
     "execution_count": 3,
     "metadata": {},
     "output_type": "execute_result"
    }
   ],
   "source": [
    "df = pd.read_csv(mst_path + 'clean_edge2.csv', dtype = dtypes)\n",
    "df.head()"
   ]
  },
  {
   "cell_type": "code",
   "execution_count": 4,
   "metadata": {
    "scrolled": true
   },
   "outputs": [
    {
     "name": "stdout",
     "output_type": "stream",
     "text": [
      "(12070, 2)\n"
     ]
    },
    {
     "data": {
      "text/html": [
       "<div>\n",
       "<style scoped>\n",
       "    .dataframe tbody tr th:only-of-type {\n",
       "        vertical-align: middle;\n",
       "    }\n",
       "\n",
       "    .dataframe tbody tr th {\n",
       "        vertical-align: top;\n",
       "    }\n",
       "\n",
       "    .dataframe thead th {\n",
       "        text-align: right;\n",
       "    }\n",
       "</style>\n",
       "<table border=\"1\" class=\"dataframe\">\n",
       "  <thead>\n",
       "    <tr style=\"text-align: right;\">\n",
       "      <th></th>\n",
       "      <th>y</th>\n",
       "      <th>x</th>\n",
       "    </tr>\n",
       "  </thead>\n",
       "  <tbody>\n",
       "    <tr>\n",
       "      <th>0</th>\n",
       "      <td>-117.7027367</td>\n",
       "      <td>34.0978127</td>\n",
       "    </tr>\n",
       "    <tr>\n",
       "      <th>1</th>\n",
       "      <td>-117.7027370962963</td>\n",
       "      <td>34.09785844444444</td>\n",
       "    </tr>\n",
       "    <tr>\n",
       "      <th>2</th>\n",
       "      <td>-117.70273749259259</td>\n",
       "      <td>34.09790418888889</td>\n",
       "    </tr>\n",
       "    <tr>\n",
       "      <th>3</th>\n",
       "      <td>-117.70273788888889</td>\n",
       "      <td>34.09794993333333</td>\n",
       "    </tr>\n",
       "    <tr>\n",
       "      <th>4</th>\n",
       "      <td>-117.70273828518519</td>\n",
       "      <td>34.097995677777774</td>\n",
       "    </tr>\n",
       "  </tbody>\n",
       "</table>\n",
       "</div>"
      ],
      "text/plain": [
       "                     y                   x\n",
       "0         -117.7027367          34.0978127\n",
       "1   -117.7027370962963   34.09785844444444\n",
       "2  -117.70273749259259   34.09790418888889\n",
       "3  -117.70273788888889   34.09794993333333\n",
       "4  -117.70273828518519  34.097995677777774"
      ]
     },
     "execution_count": 4,
     "metadata": {},
     "output_type": "execute_result"
    }
   ],
   "source": [
    "unique_starts = df.groupby(['y_start', 'x_start']).size().reset_index().drop(0, 1).rename(columns={'y_start':'y', 'x_start':'x'})\n",
    "unique_ends = df.groupby(['y_end', 'x_end']).size().reset_index().drop(0, 1).rename(columns={'y_end':'y', 'x_end':'x'})\n",
    "unique = pd.concat([unique_starts, unique_ends]).drop_duplicates()\n",
    "print(unique.shape)\n",
    "unique.head()"
   ]
  },
  {
   "cell_type": "code",
   "execution_count": 5,
   "metadata": {
    "scrolled": false
   },
   "outputs": [
    {
     "data": {
      "text/html": [
       "<div>\n",
       "<style scoped>\n",
       "    .dataframe tbody tr th:only-of-type {\n",
       "        vertical-align: middle;\n",
       "    }\n",
       "\n",
       "    .dataframe tbody tr th {\n",
       "        vertical-align: top;\n",
       "    }\n",
       "\n",
       "    .dataframe thead th {\n",
       "        text-align: right;\n",
       "    }\n",
       "</style>\n",
       "<table border=\"1\" class=\"dataframe\">\n",
       "  <thead>\n",
       "    <tr style=\"text-align: right;\">\n",
       "      <th></th>\n",
       "      <th>y</th>\n",
       "      <th>x</th>\n",
       "      <th>elevation</th>\n",
       "    </tr>\n",
       "  </thead>\n",
       "  <tbody>\n",
       "    <tr>\n",
       "      <th>0</th>\n",
       "      <td>-117.7027367</td>\n",
       "      <td>34.0978127</td>\n",
       "      <td>371.998627</td>\n",
       "    </tr>\n",
       "    <tr>\n",
       "      <th>1</th>\n",
       "      <td>-117.7027370962963</td>\n",
       "      <td>34.09785844444444</td>\n",
       "      <td>372.332794</td>\n",
       "    </tr>\n",
       "    <tr>\n",
       "      <th>2</th>\n",
       "      <td>-117.70273749259259</td>\n",
       "      <td>34.09790418888889</td>\n",
       "      <td>372.450928</td>\n",
       "    </tr>\n",
       "    <tr>\n",
       "      <th>3</th>\n",
       "      <td>-117.70273788888889</td>\n",
       "      <td>34.09794993333333</td>\n",
       "      <td>372.806061</td>\n",
       "    </tr>\n",
       "    <tr>\n",
       "      <th>4</th>\n",
       "      <td>-117.70273828518519</td>\n",
       "      <td>34.097995677777774</td>\n",
       "      <td>373.022583</td>\n",
       "    </tr>\n",
       "  </tbody>\n",
       "</table>\n",
       "</div>"
      ],
      "text/plain": [
       "                     y                   x   elevation\n",
       "0         -117.7027367          34.0978127  371.998627\n",
       "1   -117.7027370962963   34.09785844444444  372.332794\n",
       "2  -117.70273749259259   34.09790418888889  372.450928\n",
       "3  -117.70273788888889   34.09794993333333  372.806061\n",
       "4  -117.70273828518519  34.097995677777774  373.022583"
      ]
     },
     "execution_count": 5,
     "metadata": {},
     "output_type": "execute_result"
    }
   ],
   "source": [
    "nodes = defaultdict(list)\n",
    "for y,x in zip(unique['y'], unique['x']):\n",
    "    nodes['y'].append(y)\n",
    "    nodes['x'].append(x)\n",
    "    nodes['elevation'].append(get_elevation(x, y))\n",
    "nodes = pd.DataFrame(nodes).sort_values(by=['y', 'x'])\n",
    "nodes.index = range(len(nodes))\n",
    "nodes.head()"
   ]
  },
  {
   "cell_type": "code",
   "execution_count": 6,
   "metadata": {},
   "outputs": [],
   "source": [
    "nodes.to_csv(mst_path + 'clean_node2.csv', index = None)"
   ]
  }
 ],
 "metadata": {
  "kernelspec": {
   "display_name": "Python 3",
   "language": "python",
   "name": "python3"
  },
  "language_info": {
   "codemirror_mode": {
    "name": "ipython",
    "version": 3
   },
   "file_extension": ".py",
   "mimetype": "text/x-python",
   "name": "python",
   "nbconvert_exporter": "python",
   "pygments_lexer": "ipython3",
   "version": "3.6.3"
  }
 },
 "nbformat": 4,
 "nbformat_minor": 2
}
